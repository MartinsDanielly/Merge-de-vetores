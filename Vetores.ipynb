{
  "nbformat": 4,
  "nbformat_minor": 0,
  "metadata": {
    "colab": {
      "provenance": [],
      "authorship_tag": "ABX9TyMO79PwnJCqdUDTkXYTcMDx",
      "include_colab_link": true
    },
    "kernelspec": {
      "name": "python3",
      "display_name": "Python 3"
    },
    "language_info": {
      "name": "python"
    }
  },
  "cells": [
    {
      "cell_type": "markdown",
      "metadata": {
        "id": "view-in-github",
        "colab_type": "text"
      },
      "source": [
        "<a href=\"https://colab.research.google.com/github/MartinsDanielly/Merge-de-vetores/blob/main/Vetores.ipynb\" target=\"_parent\"><img src=\"https://colab.research.google.com/assets/colab-badge.svg\" alt=\"Open In Colab\"/></a>"
      ]
    },
    {
      "cell_type": "code",
      "source": [
        "def merge_vetores(vetor1, vetor2):\n",
        "    tamanho1 = len(vetor1)\n",
        "    tamanho2 = len(vetor2)\n",
        "    resultado = []\n",
        "\n",
        "   \n",
        "    menor_tamanho = min(tamanho1, tamanho2)\n",
        "\n",
        "\n",
        "    for i in range(menor_tamanho):\n",
        "        resultado.append(vetor1[i])\n",
        "        resultado.append(vetor2[i])\n",
        "\n",
        "\n",
        "    if tamanho1 > tamanho2:\n",
        "        resultado.extend(vetor1[menor_tamanho:])\n",
        "    elif tamanho2 > tamanho1:\n",
        "        resultado.extend(vetor2[menor_tamanho:])\n",
        "\n",
        "    return resultado\n",
        "\n",
        "vetor1 = [1, 3, 5, 7, 9]\n",
        "vetor2 = [2, 4, 6, 8, 10]\n",
        "\n",
        "resultado = merge_vetores(vetor1, vetor2)\n",
        "print(resultado)\n"
      ],
      "metadata": {
        "colab": {
          "base_uri": "https://localhost:8080/"
        },
        "id": "MML8AGH2AouI",
        "outputId": "32bffd13-93e2-400d-c054-6f9670f9535f"
      },
      "execution_count": 20,
      "outputs": [
        {
          "output_type": "stream",
          "name": "stdout",
          "text": [
            "[1, 2, 3, 4, 5, 6, 7, 8, 9, 10]\n"
          ]
        }
      ]
    }
  ]
}